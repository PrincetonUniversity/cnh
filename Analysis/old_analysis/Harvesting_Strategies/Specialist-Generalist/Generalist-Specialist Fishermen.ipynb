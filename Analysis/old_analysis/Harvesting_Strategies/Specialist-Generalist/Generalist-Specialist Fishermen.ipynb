{
 "metadata": {
  "name": ""
 },
 "nbformat": 3,
 "nbformat_minor": 0,
 "worksheets": [
  {
   "cells": [
    {
     "cell_type": "markdown",
     "metadata": {
      "slideshow": {
       "slide_type": "slide"
      }
     },
     "source": [
      "# Generalist v. Specialist fishermen\n",
      "Adapting Tavoni et al.'s model to deal with a specialist and generalist strategy of fishing. Specialists have a higher encounter rate with their chosen species, but generalists can harvest an additional species. It costs nothing to switch from a generalist to a specialist strategy, but there's an extra cost with becoming a generalist. The model is as follows"
     ]
    },
    {
     "cell_type": "markdown",
     "metadata": {
      "slideshow": {
       "slide_type": "subslide"
      }
     },
     "source": [
      "Resources grow logistically\n",
      "\n",
      "$$\\frac{dR_1}{dt} = r_1R_1\\left(1-\\frac{R_1}{K_1}\\right)-H_1$$\n",
      "\n",
      "$$\\frac{dR_2}{dt} = r_2R_2\\left(1-\\frac{R_2}{K_2}\\right)-H_2$$"
     ]
    },
    {
     "cell_type": "markdown",
     "metadata": {
      "slideshow": {
       "slide_type": "subslide"
      }
     },
     "source": [
      "Fishermen harvest with a type II functional response. Specialists harvest only species 1, generalists harvest both in proportion to their abundance\n",
      "\n",
      "$$I_s = \\frac{\\alpha R_1}{1+h_1 \\alpha R_1}$$\n",
      "\n",
      "$$I_g = \\frac{\\beta R_1}{1+h_1 \\beta R_1} \\times \\frac{R_1}{R_2} + \\frac{\\gamma R_2}{1+H_2\\gamma R_2} \\times \\frac{R_2}{R_1}$$"
     ]
    },
    {
     "cell_type": "markdown",
     "metadata": {
      "slideshow": {
       "slide_type": "subslide"
      }
     },
     "source": [
      "The harvest of each species ($H_1, H_2$) is the sum of how much the individual strategies harvest\n",
      "\n",
      "$$H_1=I_s(1-f_g)n + \\frac{\\beta R_1}{1+h_1\\beta R_1}\\frac{R_1}{R_2}f_gn$$\n",
      "\n",
      "$$H_2 = \\frac{\\gamma R_2}{1+h_2\\gamma R_2}\\frac{R_2}{R_1}f_gn$$"
     ]
    },
    {
     "cell_type": "markdown",
     "metadata": {
      "slideshow": {
       "slide_type": "subslide"
      }
     },
     "source": [
      "Profits for each strategy are based on price and costs\n",
      "\n",
      "$$\\pi_s = I_s(p-w)$$\n",
      "\n",
      "$$\\pi_g = I_g(p-w)$$"
     ]
    },
    {
     "cell_type": "markdown",
     "metadata": {
      "slideshow": {
       "slide_type": "subslide"
      }
     },
     "source": [
      "And the fraction of the fishing population which is a generalist $f_g$ changes depending on the difference between revenues of each strategy, but there is an additional cost $\\lambda$ to switch from specialist back to generalist\n",
      "\n",
      "$$\\frac{df_g}{dt} = (1-f_g)(\\pi_g-\\pi_s-\\lambda)$$"
     ]
    },
    {
     "cell_type": "markdown",
     "metadata": {},
     "source": [
      "So the whole thing would look like\n",
      "\n",
      "$$\\frac{dR_1}{dt} = r_1R_1\\left(1-\\frac{R_1}{K_1}\\right)-\\frac{\\alpha R_1}{1+h_1 \\alpha R_1}(1-f_g) + \\frac{\\beta R_1}{1+h_1\\beta R_1}\\frac{R_1}{R_2}f_g$$\n",
      "\n",
      "$$\\frac{dR_2}{dt} = r_2R_2\\left(1-\\frac{R_2}{K_2}\\right)-\\frac{\\gamma R_2}{1+h_2\\gamma R_2}\\frac{R_2}{R_1}f_g$$\n",
      "\n",
      "$$\\frac{df_g}{dt} = (1-f_g)\\left[\\frac{\\beta R_1}{1+h_1 \\beta R_1} \\times \\frac{R_1}{R_2} + \\frac{\\gamma R_2}{1+h_2\\gamma R_2} \\times \\frac{R_2}{R_1}(p-w)-\\frac{\\alpha R_1}{1+h_1 \\alpha R_1}(p-w)-\\lambda\\right]$$"
     ]
    },
    {
     "cell_type": "markdown",
     "metadata": {
      "slideshow": {
       "slide_type": "slide"
      }
     },
     "source": [
      "Giving parameters for all these things"
     ]
    },
    {
     "cell_type": "code",
     "collapsed": false,
     "input": [
      "r1 = 0.5    # species 1 growth rate\n",
      "r2 = 0.2    # species 2 growth rate\n",
      "K1 = 100    # species 1 carrying capacity\n",
      "K2 = 100    # species 2 carrying capacity\n",
      "alpha = .7  # specialist encounter rate with species 1\n",
      "beta = 0.3  # generalist encounter rate with species 1\n",
      "gamma = 0.3 # generalist encounter rate with species 2\n",
      "h1 = 4      # specialist/generalist handling time with species 1\n",
      "h2 = 4      # generalist handling time with species 2\n",
      "p = 6       # price per unit fish\n",
      "w = 6       # cost per unit fish\n",
      "lamda = 3   # cost to switch from specialist to generalist"
     ],
     "language": "python",
     "metadata": {
      "slideshow": {
       "slide_type": "-"
      }
     },
     "outputs": [],
     "prompt_number": 1
    },
    {
     "cell_type": "code",
     "collapsed": false,
     "input": [
      "# X[0] = R1, X[1]=R2 X[2] = f_g (prop generalist)\n",
      "def dXdt(X, t=0):\n",
      "    \"\"\"Return growth rate for resources and generalist strategy\"\"\"\n",
      "    I_s = alpha*"
     ],
     "language": "python",
     "metadata": {
      "slideshow": {
       "slide_type": "slide"
      }
     },
     "outputs": []
    }
   ],
   "metadata": {}
  }
 ]
}